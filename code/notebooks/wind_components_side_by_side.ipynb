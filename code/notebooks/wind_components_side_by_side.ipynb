{
 "cells": [
  {
   "cell_type": "code",
   "execution_count": null,
   "metadata": {},
   "outputs": [],
   "source": [
    "import os"
   ]
  },
  {
   "cell_type": "code",
   "execution_count": null,
   "metadata": {},
   "outputs": [],
   "source": [
    "os.environ.keys()"
   ]
  },
  {
   "cell_type": "markdown",
   "metadata": {},
   "source": [
    "# Imports"
   ]
  },
  {
   "cell_type": "code",
   "execution_count": null,
   "metadata": {},
   "outputs": [],
   "source": [
    "import pygrib\n",
    "import os\n",
    "import numpy as np\n",
    "\n",
    "from matplotlib import pyplot as plt\n",
    "from matplotlib import colors\n",
    "from mpl_toolkits.basemap import Basemap, addcyclic\n",
    "\n",
    "import plotly.graph_objs as go\n",
    "from plotly.offline import download_plotlyjs, init_notebook_mode, plot, iplot\n",
    "import plotly.figure_factory as ff\n",
    "\n",
    "import ipywidgets\n",
    "\n",
    "init_notebook_mode(connected=True)"
   ]
  },
  {
   "cell_type": "code",
   "execution_count": null,
   "metadata": {},
   "outputs": [],
   "source": [
    "import mpl_toolkits\n",
    "mpl_toolkits.__version__"
   ]
  },
  {
   "cell_type": "code",
   "execution_count": null,
   "metadata": {},
   "outputs": [],
   "source": [
    "%matplotlib inline"
   ]
  },
  {
   "cell_type": "markdown",
   "metadata": {},
   "source": []
  },
  {
   "cell_type": "markdown",
   "metadata": {},
   "source": [
    "# Define functions"
   ]
  },
  {
   "cell_type": "markdown",
   "metadata": {},
   "source": [
    "## Define a function that takes a list of pygrib.gribmessage objects and returns a dictionary, where the key 'data' contains a 3D tensor with data from the pygrib.gribmessage objects"
   ]
  },
  {
   "cell_type": "code",
   "execution_count": null,
   "metadata": {},
   "outputs": [],
   "source": [
    "def grb_to_grid(grb_obj):\n",
    "    \"\"\"Takes a single grb object containing multiple\n",
    "    levels. Assumes same time, pressure levels. Compiles to a cube\"\"\"\n",
    "    n_levels = len(grb_obj)\n",
    "    levels = np.array([grb_element['level'] for grb_element in grb_obj])\n",
    "    indexes = np.argsort(levels)[::-1] # highest pressure first\n",
    "    cube = np.zeros([n_levels, grb_obj[0].values.shape[0], grb_obj[1].values.shape[1]])\n",
    "    for i in range(n_levels):\n",
    "        cube[i,:,:] = grb_obj[indexes[i]].values\n",
    "    cube_dict = {'data' : cube, 'units' : grb_obj[0]['units'],\n",
    "                 'levels' : levels[indexes]}\n",
    "    return cube_dict"
   ]
  },
  {
   "cell_type": "markdown",
   "metadata": {},
   "source": [
    "### Define functions to return outlines of countries and coastlines"
   ]
  },
  {
   "cell_type": "code",
   "execution_count": null,
   "metadata": {},
   "outputs": [],
   "source": [
    "# Make trace-generating function (return a Scatter object)\n",
    "def make_scatter(x,y):\n",
    "    return go.Scatter(\n",
    "        x=x,\n",
    "        y=y,\n",
    "        mode='lines',\n",
    "        line=go.scatter.Line(color=\"black\"),\n",
    "        name=' '  # no name on hover\n",
    "    )\n",
    "\n",
    "# Functions converting coastline/country polygons to lon/lat traces\n",
    "def polygons_to_traces(poly_paths, N_poly, basemap_map):\n",
    "    ''' \n",
    "    pos arg 1. (poly_paths): paths to polygons\n",
    "    pos arg 2. (N_poly): number of polygon to convert\n",
    "    '''\n",
    "    traces = []  # init. plotting list \n",
    "\n",
    "    for i_poly in range(N_poly):\n",
    "        poly_path = poly_paths[i_poly]\n",
    "        \n",
    "        # get the Basemap coordinates of each segment\n",
    "        coords_cc = np.array(\n",
    "            [(vertex[0],vertex[1]) \n",
    "             for (vertex,code) in poly_path.iter_segments(simplify=False)]\n",
    "        )\n",
    "        \n",
    "        # convert coordinates to lon/lat by 'inverting' the Basemap projection\n",
    "        lon_cc, lat_cc = basemap_map(coords_cc[:,0],coords_cc[:,1], inverse=True)\n",
    "        \n",
    "        # add plot.ly plotting options\n",
    "        traces.append(make_scatter(lon_cc,lat_cc))\n",
    "     \n",
    "    return traces\n",
    "\n",
    "# Function generating coastline lon/lat traces\n",
    "def get_coastline_traces(basemap_map):\n",
    "    poly_paths = basemap_map.drawcoastlines().get_paths() # coastline polygon paths\n",
    "    N_poly = 91 # use only the 91st biggest coastlines (i.e. no rivers)\n",
    "    return polygons_to_traces(poly_paths, N_poly, basemap_map)\n",
    "\n",
    "# Function generating country lon/lat traces\n",
    "def get_country_traces(basemap_map):\n",
    "    poly_paths = basemap_map.drawcountries().get_paths() # country polygon paths\n",
    "    N_poly = len(poly_paths)  # use all countries\n",
    "    return polygons_to_traces(poly_paths, N_poly, basemap_map)\n"
   ]
  },
  {
   "cell_type": "markdown",
   "metadata": {},
   "source": [
    "### Define functions to read data and return plotly FigureWidget object"
   ]
  },
  {
   "cell_type": "code",
   "execution_count": null,
   "metadata": {},
   "outputs": [],
   "source": [
    "def get_data_as_cube_and_lats_lons(file_path, file_name, data_type):\n",
    "    grbs = pygrib.open(os.path.join(file_path, file_name))\n",
    "    grbs.messages\n",
    "    grb = grbs.readline()\n",
    "    lats,lons = grb.latlons()\n",
    "    grb_data = grbs.select(name=data_type)\n",
    "    grb_cube_data=grb_to_grid(grb_data)\n",
    "    \n",
    "    forecast_date = grb.validDate\n",
    "    issuance_date = grb.analDate\n",
    "    grbs.close()\n",
    "    \n",
    "    return grb_cube_data, lats, lons, forecast_date, issuance_date\n",
    "\n",
    "def rotate_data_and_lats(grb_matrix_data, lons, degrees=180):\n",
    "    lons_rotated = lons.copy()\n",
    "    lons_rotated[lons >= degrees] = lons[lons >= degrees] - (2*degrees)\n",
    "\n",
    "    # proper rotation obtained from: https://plot.ly/ipython-notebooks/basemap-maps/\n",
    "    i_east = lons_rotated[0, :] >= 0  # indices of east lon\n",
    "    i_west = lons_rotated[0, :] < 0   # indices of west lon\n",
    "    \n",
    "    # stack the two halves\n",
    "    lons_rotated = np.hstack((lons_rotated[:, i_west], lons_rotated[:, i_east]))  \n",
    "\n",
    "    # Correspondingly, shift the data array\n",
    "    data_rotated = np.hstack((grb_matrix_data[:,i_west], grb_matrix_data[:,i_east]))\n",
    "    \n",
    "    return data_rotated, lons_rotated\n",
    "\n",
    "def get_rotated_basemap(degrees=180):\n",
    "    m_rotated = Basemap(llcrnrlon = 1 - degrees, llcrnrlat = -89, urcrnrlon = degrees,\n",
    "           urcrnrlat = 89 , projection = 'mill', area_thresh =10000,\n",
    "           resolution='l')\n",
    "    \n",
    "    return m_rotated\n",
    "    \n",
    "def get_widget_figure(file_path, file_name, data_type, degrees_to_rotate=180):\n",
    "    grb_cube_data, lats, lons, forecast_date, issuance_date = get_data_as_cube_and_lats_lons(\n",
    "        file_path, file_name, data_type)\n",
    "    matrix_data = grb_cube_data['data'][10]\n",
    "    data_rotated, lons_rotated = rotate_data_and_lats(matrix_data, lons)\n",
    "    basemap_rotated = get_rotated_basemap()\n",
    "    \n",
    "    anno_text = str(forecast_date) + '<br>(issued on ' + str(issuance_date) + ')'\n",
    "    #\"Data courtesy of\n",
    "    #<a href='http://www.esrl.noaa.gov/psd/data/composites/day/'>\\\n",
    "    #NOAA Earth System Research Laboratory</a>\"\n",
    "\n",
    "    axis_style = dict(\n",
    "        zeroline=False,\n",
    "        showline=False,\n",
    "        showgrid=False,\n",
    "        ticks='',\n",
    "        showticklabels=False,\n",
    "    )\n",
    "\n",
    "    layout1 = go.Layout(\n",
    "        title=go.layout.Title(\n",
    "        text=data_type,\n",
    "        xref='paper',\n",
    "        x=0\n",
    "        ),\n",
    "        showlegend=False,\n",
    "        hovermode=\"closest\", # highlight closest point on hover\n",
    "        margin = {'t':100, 'b':60, 'l':60, 'r':0, 'pad':8}, \n",
    "        xaxis=go.layout.XAxis(\n",
    "            axis_style,\n",
    "            range = [-degrees_to_rotate, degrees_to_rotate]  # restrict y-axis to range of lon\n",
    "        ),\n",
    "        yaxis=go.layout.YAxis(\n",
    "            axis_style,\n",
    "            range=[-85, 85]\n",
    "        ),\n",
    "        annotations=[\n",
    "            dict(\n",
    "                text=anno_text,\n",
    "                xref='paper',\n",
    "                yref='paper',\n",
    "                x=0,\n",
    "                y=1,\n",
    "                yanchor='bottom',\n",
    "                showarrow=False,\n",
    "                align='left'\n",
    "            )\n",
    "        ],\n",
    "        autosize=False,\n",
    "        width=500,\n",
    "        height=400\n",
    "    )\n",
    "    \n",
    "    traces_cc = get_coastline_traces(basemap_rotated)+get_country_traces(basemap_rotated)\n",
    "    \n",
    "    fw = go.FigureWidget(data=traces_cc + [go.Contour(z=data_rotated, x=lons_rotated[0, :], \n",
    "                                                      y=lats[:, 0])], layout=layout1)\n",
    "    return fw\n",
    "\n"
   ]
  },
  {
   "cell_type": "markdown",
   "metadata": {},
   "source": [
    "# Define data path"
   ]
  },
  {
   "cell_type": "code",
   "execution_count": null,
   "metadata": {},
   "outputs": [],
   "source": [
    "data_folder = os.path.join(os.path.expanduser('~'), \n",
    "                           'Documents', 'Projects', 'WeatherWind', 'data')"
   ]
  },
  {
   "cell_type": "markdown",
   "metadata": {},
   "source": [
    "# Plots side-by-side"
   ]
  },
  {
   "cell_type": "code",
   "execution_count": null,
   "metadata": {},
   "outputs": [],
   "source": [
    "# downloaded from https://nomads.ncdc.noaa.gov/data/gfs-avn-hi/201805/20180508/\n",
    "data_file = 'gfs_3_20180508_0600_027.grb2' "
   ]
  },
  {
   "cell_type": "code",
   "execution_count": null,
   "metadata": {
    "scrolled": true
   },
   "outputs": [],
   "source": [
    "fw1 = get_widget_figure(data_folder, data_file, \"V component of wind\")\n",
    "fw2 = get_widget_figure(data_folder, data_file, \"U component of wind\")"
   ]
  },
  {
   "cell_type": "code",
   "execution_count": null,
   "metadata": {},
   "outputs": [],
   "source": [
    "# https://community.plot.ly/t/plotly-subplots-using-fig-objects-instead-of-traces/11969/4\n",
    "# https://ipywidgets.readthedocs.io/en/stable/examples/Widget%20Styling.html\n",
    "fig_subplots = ipywidgets.VBox([fw1, fw2], layout=ipywidgets.Layout(display='flex',\n",
    "                    flex_flow='column',\n",
    "                    align_items='center',\n",
    "                    width='100%'))"
   ]
  },
  {
   "cell_type": "code",
   "execution_count": null,
   "metadata": {},
   "outputs": [],
   "source": [
    "# u is the ZONAL VELOCITY, i.e. the component of the horizontal wind TOWARDS EAST. \n",
    "# v is the MERIDIONAL VELOCITY, i.e. the component of the horizontal wind TOWARDS NORTH\n",
    "# http://tornado.sfsu.edu/geosciences/classes/m430/Wind/WindDirection.html\n",
    "\n",
    "fig_subplots"
   ]
  },
  {
   "cell_type": "code",
   "execution_count": null,
   "metadata": {},
   "outputs": [],
   "source": []
  },
  {
   "cell_type": "code",
   "execution_count": null,
   "metadata": {},
   "outputs": [],
   "source": []
  }
 ],
 "metadata": {
  "kernelspec": {
   "display_name": "Python 3",
   "language": "python",
   "name": "python3"
  },
  "language_info": {
   "codemirror_mode": {
    "name": "ipython",
    "version": 3
   },
   "file_extension": ".py",
   "mimetype": "text/x-python",
   "name": "python",
   "nbconvert_exporter": "python",
   "pygments_lexer": "ipython3",
   "version": "3.6.8"
  }
 },
 "nbformat": 4,
 "nbformat_minor": 2
}
